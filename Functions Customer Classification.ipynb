{
 "cells": [
  {
   "cell_type": "code",
   "execution_count": 1,
   "id": "8f780bda-91f3-4712-aa44-7ac50c4cf4b4",
   "metadata": {},
   "outputs": [
    {
     "name": "stderr",
     "output_type": "stream",
     "text": [
      "C:\\Users\\asus\\AppData\\Local\\Temp\\ipykernel_17428\\4225040288.py:3: DeprecationWarning: `import pandas_profiling` is going to be deprecated by April 1st. Please use `import ydata_profiling` instead.\n",
      "  from pandas_profiling import ProfileReport\n"
     ]
    }
   ],
   "source": [
    "import pandas as pd\n",
    "import numpy as np\n",
    "from pandas_profiling import ProfileReport\n",
    "from sklearn.model_selection import train_test_split, GridSearchCV\n",
    "from sklearn.preprocessing import StandardScaler\n",
    "from sklearn.ensemble import RandomForestClassifier\n",
    "from sklearn.metrics import accuracy_score, confusion_matrix, precision_score, recall_score, classification_report, roc_auc_score\n",
    "from imblearn.over_sampling import SMOTE\n"
   ]
  },
  {
   "cell_type": "code",
   "execution_count": 2,
   "id": "1a744358-666a-4b8c-9ef6-79596820f2d8",
   "metadata": {},
   "outputs": [],
   "source": [
    "#Read and Clean data \n",
    "def read_data(file_path):\n",
    "    df = pd.read_csv(file_path)\n",
    "    drop_cols = ['REF_NO', 'occupation_partner','self_employed_partner','year_last_moved', 'TVarea', 'post_code', 'post_area', 'region']\n",
    "    new_data = df.drop(drop_cols, axis = 1)\n",
    "\n",
    "    #Transform the Children Column values\n",
    "    new_data['children'] = new_data['children'].str.replace(\"Zero\", \"0\")\n",
    "    new_data['children'] = new_data['children'].str.replace(\"4+\", \"4\")\n",
    "\n",
    "    #Clean the Age Band Column\n",
    "    new_data['age_band'] = new_data['age_band'].str.replace(\"Unknown\", new_data['age_band'].mode()[0])\n",
    "    \n",
    "    return df, new_data"
   ]
  },
  {
   "cell_type": "code",
   "execution_count": 3,
   "id": "e70b319d-a6a0-4f8b-9506-97cd8d33fa00",
   "metadata": {},
   "outputs": [],
   "source": [
    "def transform_age(x):\n",
    "    if '+' in x:\n",
    "        x = x.replace('+','')\n",
    "        x = x + '-'+ x\n",
    "    return x"
   ]
  },
  {
   "cell_type": "code",
   "execution_count": 4,
   "id": "25e65049-e110-42c9-b5a3-86e06fa2f108",
   "metadata": {},
   "outputs": [],
   "source": [
    "def create_age_band(new_data):\n",
    "    new_data['age_band'] = new_data['age_band'].apply(transform_age)\n",
    "    new_data = new_data.assign(lower_age = lambda x : x['age_band'].str.split(\"-\", expand = True)[0],\n",
    "               upper_age = lambda x : x['age_band'].str.split(\"-\", expand = True)[1])\n",
    "    new_data['upper_age'] = new_data['upper_age'].astype('int')\n",
    "    bins = [0, 20, 30, 40, 50, 60, 100]\n",
    "    labels = ['<20', '<30', '<40', '<50', '<60', '>60']\n",
    "    new_data['Age_Bucket'] = pd.cut(new_data['upper_age'], bins=bins, labels=labels, right=False)\n",
    "    drop_cols = ['age_band', 'lower_age','upper_age']\n",
    "    new_data.drop(labels= drop_cols, axis= 1, inplace=True)\n",
    "    return new_data"
   ]
  },
  {
   "cell_type": "code",
   "execution_count": 5,
   "id": "c33f4882-a3c9-4ebb-a74e-1974fd7a236c",
   "metadata": {},
   "outputs": [],
   "source": [
    "def get_family_income(x):\n",
    "    if  (\"<\" in x) & (\">\" in x):\n",
    "        x = x.split(\">=\")[1].replace(\",\",'')\n",
    "    elif '>=' in x:\n",
    "        x = x.replace('>=','').replace(',', '')\n",
    "    elif '<=' in x:\n",
    "        x = x.replace('<=','').replace(',', '')\n",
    "    elif '>' in x:\n",
    "        x = x.replace('>', '').replace(',','')\n",
    "    elif '<' in x:\n",
    "        x = x.replace('<','').replace(',','')\n",
    "    else:\n",
    "        x\n",
    "    return x   "
   ]
  },
  {
   "cell_type": "code",
   "execution_count": 6,
   "id": "aef5e167-41ca-4438-a939-d351d5cfe147",
   "metadata": {},
   "outputs": [],
   "source": [
    "def income_bucket(x):\n",
    "    # x = int(x)\n",
    "    if x <= 10000:\n",
    "        x = \"<10000\"\n",
    "    elif x<=15000:\n",
    "        x = \"<15000\"\n",
    "    elif x<=20000:\n",
    "        x = \"<2000\"\n",
    "    elif x<=25000:\n",
    "        x = \"<25000\"\n",
    "    elif x<=30000:\n",
    "        x = \"<30000\"\n",
    "    else:\n",
    "        x = \">30000\"\n",
    "    return x"
   ]
  },
  {
   "cell_type": "code",
   "execution_count": 7,
   "id": "767848a1-5d74-406b-b396-766716f2d792",
   "metadata": {},
   "outputs": [],
   "source": [
    "def transform_family_income(new_data):\n",
    "    new_data['family_income'] = new_data['family_income'].str.replace('Unknown', new_data['family_income'].mode()[0])\n",
    "    new_data['family_income_new'] = new_data['family_income'].apply(get_family_income)\n",
    "    new_data['family_income_new']= new_data['family_income_new'].astype('int')\n",
    "    new_data['family_income_bucket'] = new_data['family_income_new'].apply(income_bucket)\n",
    "    new_data.drop(['family_income_new','family_income','status', 'occupation', 'home_status','gender'], axis= 1, inplace= True)\n",
    "    #Map the self Employes column witn 1 and 0\n",
    "    yes_no = {\"Yes\" : 1, \"No\": 0}\n",
    "    new_data['self_employed'] = new_data['self_employed'].map(yes_no)\n",
    "    new_data = pd.get_dummies(data = new_data, columns=['Age_Bucket','family_income_bucket'], drop_first= True)\n",
    "    return new_data"
   ]
  },
  {
   "cell_type": "code",
   "execution_count": 8,
   "id": "bc9e0e6f-860f-45b8-971c-3bfa8d0ff0fb",
   "metadata": {},
   "outputs": [],
   "source": [
    "#Handle Imbalance , Craete Features ad Train Model\n",
    "\n",
    "def create_features(new_data):\n",
    "    X = new_data.drop('Revenue_Grid', axis = 1)\n",
    "    Y = new_data['Revenue_Grid']\n",
    "    \n",
    "    smote = SMOTE()\n",
    "    X,Y  = smote.fit_resample(X, Y)\n",
    "    x_train, x_test, y_train, y_test = train_test_split(X,Y, test_size= 0.20, random_state=101)\n",
    "    return x_train, x_test, y_train, y_test"
   ]
  },
  {
   "cell_type": "code",
   "execution_count": 9,
   "id": "16ca38a2-9ec0-4fc6-b1f4-adc21839274c",
   "metadata": {},
   "outputs": [],
   "source": [
    "def model_building(x_train,y_train):\n",
    "\n",
    "    model = RandomForestClassifier()\n",
    "    param_grid = {\n",
    "              'n_estimators' : [100,150,200],\n",
    "              'max_depth' : [5,10,15,20],\n",
    "              'min_samples_split' : [5,10,15],\n",
    "              'min_samples_leaf' : [5,10,15],\n",
    "              'criterion' : ['gini', 'entropy'],\n",
    "    }\n",
    "\n",
    "    cv = GridSearchCV(estimator= model,param_grid =param_grid, n_jobs = -1, cv= 5, verbose = 3 )\n",
    "    cv.fit(x_train,y_train)\n",
    "    y_pred = cv.predict(x_test)\n",
    "\n",
    "    model = RandomForestClassifier(n_estimators= cv.best_params_['n_estimators'],\n",
    "                               max_depth= cv.best_params_['max_depth'],\n",
    "                               min_samples_leaf= cv.best_params_['min_samples_leaf'],\n",
    "                               min_samples_split= cv.best_params_['min_samples_split'])   \n",
    "    model.fit(x_train,y_train)\n",
    "    return model"
   ]
  },
  {
   "cell_type": "code",
   "execution_count": 10,
   "id": "a2b94645-0b25-41f0-a669-41fa50da4627",
   "metadata": {},
   "outputs": [],
   "source": [
    "def fit_model(mdel, x_test):\n",
    "    \n",
    "    y_pred = model.predict(x_test)\n",
    "    acc_score = accuracy_score(y_pred, y_test)\n",
    "    classif_report = classification_report(y_pred, y_test)\n",
    "    cnf_matrix = confusion_matrix(y_pred, y_test)\n",
    "    return y_pred"
   ]
  },
  {
   "cell_type": "code",
   "execution_count": 50,
   "id": "3ffb9033-33d4-4585-8281-b8f1cdb0c518",
   "metadata": {},
   "outputs": [],
   "source": [
    "def evaluate_model(y_pred, y_test):\n",
    "\n",
    "    acc_score = accuracy_score(y_pred, y_test)\n",
    "    classif_report = classification_report(y_pred, y_test)\n",
    "    cnf_matrix = confusion_matrix(y_pred, y_test)\n",
    "    return acc_score,classif_report,cnf_matrix"
   ]
  },
  {
   "cell_type": "markdown",
   "id": "494a8513-fd41-4c87-b363-2d3ecd715997",
   "metadata": {},
   "source": [
    "Now Apply this on the training data "
   ]
  },
  {
   "cell_type": "code",
   "execution_count": 12,
   "id": "a9199463-6233-4ce2-9f9a-99ce3c0b7ca3",
   "metadata": {},
   "outputs": [],
   "source": [
    "data, new_data = read_data('existing_base_train.csv')"
   ]
  },
  {
   "cell_type": "code",
   "execution_count": 13,
   "id": "d53b10dc-e513-438a-8e7a-6f06e108cc34",
   "metadata": {},
   "outputs": [],
   "source": [
    "new_data = create_age_band(new_data)"
   ]
  },
  {
   "cell_type": "code",
   "execution_count": 14,
   "id": "ba18391f-2c29-4079-8aba-7403b05ac0d6",
   "metadata": {},
   "outputs": [
    {
     "data": {
      "text/html": [
       "<div>\n",
       "<style scoped>\n",
       "    .dataframe tbody tr th:only-of-type {\n",
       "        vertical-align: middle;\n",
       "    }\n",
       "\n",
       "    .dataframe tbody tr th {\n",
       "        vertical-align: top;\n",
       "    }\n",
       "\n",
       "    .dataframe thead th {\n",
       "        text-align: right;\n",
       "    }\n",
       "</style>\n",
       "<table border=\"1\" class=\"dataframe\">\n",
       "  <thead>\n",
       "    <tr style=\"text-align: right;\">\n",
       "      <th></th>\n",
       "      <th>children</th>\n",
       "      <th>status</th>\n",
       "      <th>occupation</th>\n",
       "      <th>home_status</th>\n",
       "      <th>family_income</th>\n",
       "      <th>self_employed</th>\n",
       "      <th>Average_Credit_Card_Transaction</th>\n",
       "      <th>Balance_Transfer</th>\n",
       "      <th>Term_Deposit</th>\n",
       "      <th>Life_Insurance</th>\n",
       "      <th>...</th>\n",
       "      <th>Investment_Tax_Saving_Bond</th>\n",
       "      <th>Home_Loan</th>\n",
       "      <th>Online_Purchase_Amount</th>\n",
       "      <th>gender</th>\n",
       "      <th>Investment_in_Commudity</th>\n",
       "      <th>Investment_in_Equity</th>\n",
       "      <th>Investment_in_Derivative</th>\n",
       "      <th>Portfolio_Balance</th>\n",
       "      <th>Revenue_Grid</th>\n",
       "      <th>Age_Bucket</th>\n",
       "    </tr>\n",
       "  </thead>\n",
       "  <tbody>\n",
       "    <tr>\n",
       "      <th>0</th>\n",
       "      <td>2</td>\n",
       "      <td>Partner</td>\n",
       "      <td>Professional</td>\n",
       "      <td>Own Home</td>\n",
       "      <td>&gt;=35,000</td>\n",
       "      <td>No</td>\n",
       "      <td>26.98</td>\n",
       "      <td>29.99</td>\n",
       "      <td>312.25</td>\n",
       "      <td>299.79</td>\n",
       "      <td>...</td>\n",
       "      <td>8.98</td>\n",
       "      <td>55.44</td>\n",
       "      <td>7.68</td>\n",
       "      <td>Female</td>\n",
       "      <td>151.55</td>\n",
       "      <td>81.79</td>\n",
       "      <td>136.02</td>\n",
       "      <td>360.37</td>\n",
       "      <td>2</td>\n",
       "      <td>&lt;40</td>\n",
       "    </tr>\n",
       "    <tr>\n",
       "      <th>1</th>\n",
       "      <td>0</td>\n",
       "      <td>Partner</td>\n",
       "      <td>Secretarial/Admin</td>\n",
       "      <td>Own Home</td>\n",
       "      <td>&gt;=35,000</td>\n",
       "      <td>No</td>\n",
       "      <td>35.98</td>\n",
       "      <td>74.48</td>\n",
       "      <td>0.00</td>\n",
       "      <td>99.96</td>\n",
       "      <td>...</td>\n",
       "      <td>0.00</td>\n",
       "      <td>0.00</td>\n",
       "      <td>18.99</td>\n",
       "      <td>Female</td>\n",
       "      <td>44.28</td>\n",
       "      <td>13.91</td>\n",
       "      <td>29.23</td>\n",
       "      <td>89.22</td>\n",
       "      <td>2</td>\n",
       "      <td>&lt;60</td>\n",
       "    </tr>\n",
       "  </tbody>\n",
       "</table>\n",
       "<p>2 rows × 24 columns</p>\n",
       "</div>"
      ],
      "text/plain": [
       "  children   status         occupation home_status family_income  \\\n",
       "0        2  Partner       Professional    Own Home      >=35,000   \n",
       "1        0  Partner  Secretarial/Admin    Own Home      >=35,000   \n",
       "\n",
       "  self_employed  Average_Credit_Card_Transaction  Balance_Transfer  \\\n",
       "0            No                            26.98             29.99   \n",
       "1            No                            35.98             74.48   \n",
       "\n",
       "   Term_Deposit  Life_Insurance  ...  Investment_Tax_Saving_Bond  Home_Loan  \\\n",
       "0        312.25          299.79  ...                        8.98      55.44   \n",
       "1          0.00           99.96  ...                        0.00       0.00   \n",
       "\n",
       "   Online_Purchase_Amount  gender  Investment_in_Commudity  \\\n",
       "0                    7.68  Female                   151.55   \n",
       "1                   18.99  Female                    44.28   \n",
       "\n",
       "   Investment_in_Equity  Investment_in_Derivative Portfolio_Balance  \\\n",
       "0                 81.79                    136.02            360.37   \n",
       "1                 13.91                     29.23             89.22   \n",
       "\n",
       "   Revenue_Grid  Age_Bucket  \n",
       "0             2         <40  \n",
       "1             2         <60  \n",
       "\n",
       "[2 rows x 24 columns]"
      ]
     },
     "execution_count": 14,
     "metadata": {},
     "output_type": "execute_result"
    }
   ],
   "source": [
    "new_data.head(2)"
   ]
  },
  {
   "cell_type": "code",
   "execution_count": 15,
   "id": "2d37880d-73e5-4733-9fe8-3de84d4777a8",
   "metadata": {},
   "outputs": [],
   "source": [
    "new_data = transform_family_income(new_data)"
   ]
  },
  {
   "cell_type": "code",
   "execution_count": 16,
   "id": "d2e1b37f-71ed-4b59-8774-ec9bfdeae3dc",
   "metadata": {},
   "outputs": [],
   "source": [
    "x_train, x_test, y_train, y_test = create_features(new_data)"
   ]
  },
  {
   "cell_type": "code",
   "execution_count": 17,
   "id": "d9bdf3f9-3c04-419b-9266-399e2dde3bfc",
   "metadata": {},
   "outputs": [
    {
     "name": "stdout",
     "output_type": "stream",
     "text": [
      "Fitting 5 folds for each of 216 candidates, totalling 1080 fits\n"
     ]
    }
   ],
   "source": [
    "model = model_building(x_train,y_train)"
   ]
  },
  {
   "cell_type": "code",
   "execution_count": 43,
   "id": "bd100564-6236-4282-8808-6654692f31bd",
   "metadata": {},
   "outputs": [],
   "source": [
    "test_df, test_new_data= read_data('existing_base_test.csv')"
   ]
  },
  {
   "cell_type": "code",
   "execution_count": 45,
   "id": "01d20e2c-9144-428a-80d0-21b6f9f03870",
   "metadata": {},
   "outputs": [],
   "source": [
    "test_new_data = create_age_band(test_new_data)\n",
    "test_new_data = transform_family_income(test_new_data)\n",
    "\n",
    "#run the sample submission data \n",
    "col_names = ['REF_NO', 'Revenue_Grid']\n",
    "sample_df = pd.read_csv('sample_submission.csv', header=None, names= col_names)"
   ]
  },
  {
   "cell_type": "code",
   "execution_count": 52,
   "id": "f76769a7-3363-4788-8d9f-872fee36c7f5",
   "metadata": {},
   "outputs": [],
   "source": [
    "y_unseen = sample_df['Revenue_Grid']\n",
    "y_pred_unseen = model.predict(test_new_data)"
   ]
  },
  {
   "cell_type": "code",
   "execution_count": 56,
   "id": "5156145d-4865-42aa-95b2-33dc306fbd7b",
   "metadata": {},
   "outputs": [],
   "source": [
    "acc_score,classif_report,cnf_matrix = evaluate_model(y_pred_unseen,y_unseen)"
   ]
  },
  {
   "cell_type": "code",
   "execution_count": 58,
   "id": "cfdff6b7-a286-4371-9c0e-62c195072baf",
   "metadata": {},
   "outputs": [
    {
     "data": {
      "text/plain": [
       "0.49286065977351057"
      ]
     },
     "execution_count": 58,
     "metadata": {},
     "output_type": "execute_result"
    }
   ],
   "source": [
    "acc_score"
   ]
  },
  {
   "cell_type": "code",
   "execution_count": 62,
   "id": "78f94c41-4f59-434e-bda4-d58c41ea2bf9",
   "metadata": {},
   "outputs": [
    {
     "data": {
      "text/plain": [
       "array([[144, 126],\n",
       "       [904, 857]], dtype=int64)"
      ]
     },
     "execution_count": 62,
     "metadata": {},
     "output_type": "execute_result"
    }
   ],
   "source": [
    "cnf_matrix"
   ]
  },
  {
   "cell_type": "code",
   "execution_count": null,
   "id": "b9887eab-0c52-4870-9e54-a1e621f87c38",
   "metadata": {},
   "outputs": [],
   "source": []
  },
  {
   "cell_type": "code",
   "execution_count": 64,
   "id": "31269587-2a7f-4d9a-bd2a-ced27d7117eb",
   "metadata": {},
   "outputs": [],
   "source": [
    "test_df['Predicted Results'] = y_pred_unseen"
   ]
  },
  {
   "cell_type": "code",
   "execution_count": 31,
   "id": "24c8a5f9-6d15-448a-ba14-d4e1e3128ea7",
   "metadata": {},
   "outputs": [],
   "source": [
    "# y_pred,acc_score,classif_report,cnf_matrix = evaluate_model(model, test_new_data)"
   ]
  },
  {
   "cell_type": "code",
   "execution_count": 66,
   "id": "ebc49e06-fbe9-4b34-83d1-1acb8da74dc7",
   "metadata": {},
   "outputs": [
    {
     "data": {
      "text/html": [
       "<div>\n",
       "<style scoped>\n",
       "    .dataframe tbody tr th:only-of-type {\n",
       "        vertical-align: middle;\n",
       "    }\n",
       "\n",
       "    .dataframe tbody tr th {\n",
       "        vertical-align: top;\n",
       "    }\n",
       "\n",
       "    .dataframe thead th {\n",
       "        text-align: right;\n",
       "    }\n",
       "</style>\n",
       "<table border=\"1\" class=\"dataframe\">\n",
       "  <thead>\n",
       "    <tr style=\"text-align: right;\">\n",
       "      <th></th>\n",
       "      <th>REF_NO</th>\n",
       "      <th>children</th>\n",
       "      <th>age_band</th>\n",
       "      <th>status</th>\n",
       "      <th>occupation</th>\n",
       "      <th>occupation_partner</th>\n",
       "      <th>home_status</th>\n",
       "      <th>family_income</th>\n",
       "      <th>self_employed</th>\n",
       "      <th>self_employed_partner</th>\n",
       "      <th>...</th>\n",
       "      <th>Investment_Tax_Saving_Bond</th>\n",
       "      <th>Home_Loan</th>\n",
       "      <th>Online_Purchase_Amount</th>\n",
       "      <th>gender</th>\n",
       "      <th>region</th>\n",
       "      <th>Investment_in_Commudity</th>\n",
       "      <th>Investment_in_Equity</th>\n",
       "      <th>Investment_in_Derivative</th>\n",
       "      <th>Portfolio_Balance</th>\n",
       "      <th>Predicted Results</th>\n",
       "    </tr>\n",
       "  </thead>\n",
       "  <tbody>\n",
       "    <tr>\n",
       "      <th>0</th>\n",
       "      <td>697</td>\n",
       "      <td>Zero</td>\n",
       "      <td>71+</td>\n",
       "      <td>Partner</td>\n",
       "      <td>Retired</td>\n",
       "      <td>Housewife</td>\n",
       "      <td>Own Home</td>\n",
       "      <td>&lt;12,500, &gt;=10,000</td>\n",
       "      <td>No</td>\n",
       "      <td>No</td>\n",
       "      <td>...</td>\n",
       "      <td>0.00</td>\n",
       "      <td>0.00</td>\n",
       "      <td>0.00</td>\n",
       "      <td>Male</td>\n",
       "      <td>South West</td>\n",
       "      <td>40.48</td>\n",
       "      <td>15.07</td>\n",
       "      <td>28.40</td>\n",
       "      <td>83.05</td>\n",
       "      <td>2</td>\n",
       "    </tr>\n",
       "    <tr>\n",
       "      <th>1</th>\n",
       "      <td>7897</td>\n",
       "      <td>Zero</td>\n",
       "      <td>31-35</td>\n",
       "      <td>Partner</td>\n",
       "      <td>Unknown</td>\n",
       "      <td>Business Manager</td>\n",
       "      <td>Own Home</td>\n",
       "      <td>&gt;=35,000</td>\n",
       "      <td>No</td>\n",
       "      <td>No</td>\n",
       "      <td>...</td>\n",
       "      <td>27.45</td>\n",
       "      <td>13.47</td>\n",
       "      <td>57.46</td>\n",
       "      <td>Male</td>\n",
       "      <td>South East</td>\n",
       "      <td>27.07</td>\n",
       "      <td>72.01</td>\n",
       "      <td>82.74</td>\n",
       "      <td>235.29</td>\n",
       "      <td>2</td>\n",
       "    </tr>\n",
       "  </tbody>\n",
       "</table>\n",
       "<p>2 rows × 32 columns</p>\n",
       "</div>"
      ],
      "text/plain": [
       "   REF_NO children age_band   status occupation occupation_partner  \\\n",
       "0     697     Zero      71+  Partner    Retired          Housewife   \n",
       "1    7897     Zero    31-35  Partner    Unknown   Business Manager   \n",
       "\n",
       "  home_status      family_income self_employed self_employed_partner  ...  \\\n",
       "0    Own Home  <12,500, >=10,000            No                    No  ...   \n",
       "1    Own Home           >=35,000            No                    No  ...   \n",
       "\n",
       "   Investment_Tax_Saving_Bond Home_Loan Online_Purchase_Amount gender  \\\n",
       "0                        0.00      0.00                   0.00   Male   \n",
       "1                       27.45     13.47                  57.46   Male   \n",
       "\n",
       "       region  Investment_in_Commudity  Investment_in_Equity  \\\n",
       "0  South West                    40.48                 15.07   \n",
       "1  South East                    27.07                 72.01   \n",
       "\n",
       "   Investment_in_Derivative  Portfolio_Balance  Predicted Results  \n",
       "0                     28.40              83.05                  2  \n",
       "1                     82.74             235.29                  2  \n",
       "\n",
       "[2 rows x 32 columns]"
      ]
     },
     "execution_count": 66,
     "metadata": {},
     "output_type": "execute_result"
    }
   ],
   "source": [
    "test_df.head(2)"
   ]
  },
  {
   "cell_type": "code",
   "execution_count": 81,
   "id": "b491032f-dede-45b0-9520-5afa69645179",
   "metadata": {},
   "outputs": [],
   "source": [
    "merged_df = pd.merge(test_df, sample_df[['REF_NO', 'Revenue_Grid']], on='REF_NO', how='left', suffixes=('_test_df', '_sample_df'))\n",
    "merged_df = merged_df[['REF_NO','Predicted Results']]"
   ]
  },
  {
   "cell_type": "code",
   "execution_count": 83,
   "id": "33ebb6f2-f7ae-4523-8601-af21620c9baa",
   "metadata": {},
   "outputs": [],
   "source": [
    "merged_df.to_csv('submission.csv', index= False, header=False)"
   ]
  },
  {
   "cell_type": "code",
   "execution_count": null,
   "id": "f2d2fed2-11f2-40c0-a2ba-7c0df7b7bc93",
   "metadata": {},
   "outputs": [],
   "source": []
  }
 ],
 "metadata": {
  "kernelspec": {
   "display_name": "Python 3 (ipykernel)",
   "language": "python",
   "name": "python3"
  },
  "language_info": {
   "codemirror_mode": {
    "name": "ipython",
    "version": 3
   },
   "file_extension": ".py",
   "mimetype": "text/x-python",
   "name": "python",
   "nbconvert_exporter": "python",
   "pygments_lexer": "ipython3",
   "version": "3.12.4"
  }
 },
 "nbformat": 4,
 "nbformat_minor": 5
}
